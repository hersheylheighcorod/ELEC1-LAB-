{
  "nbformat": 4,
  "nbformat_minor": 0,
  "metadata": {
    "colab": {
      "name": "Corod_Introduction_to_Python.ipynb",
      "provenance": [],
      "authorship_tag": "ABX9TyOIX0xuhrvn8gQTeEtWA3sO",
      "include_colab_link": true
    },
    "kernelspec": {
      "name": "python3",
      "display_name": "Python 3"
    },
    "language_info": {
      "name": "python"
    }
  },
  "cells": [
    {
      "cell_type": "markdown",
      "metadata": {
        "id": "view-in-github",
        "colab_type": "text"
      },
      "source": [
        "<a href=\"https://colab.research.google.com/github/hersheylheighcorod/ELEC1-LAB-/blob/Elective1-2/Corod_Introduction_to_Python.ipynb\" target=\"_parent\"><img src=\"https://colab.research.google.com/assets/colab-badge.svg\" alt=\"Open In Colab\"/></a>"
      ]
    },
    {
      "cell_type": "markdown",
      "source": [
        "##Python Indentation"
      ],
      "metadata": {
        "id": "6clzXfbN55IC"
      }
    },
    {
      "cell_type": "code",
      "source": [
        "if 4>10:           #This  is a comparison if 4 is greater than 10\n",
        "  print(\"10 is greater than 4\")\n",
        "else:\n",
        "  print(\"4 is less than 10\")"
      ],
      "metadata": {
        "colab": {
          "base_uri": "https://localhost:8080/"
        },
        "id": "YA8QpWRt56b0",
        "outputId": "92fedf26-618c-477d-a9e1-eaef23f76c88"
      },
      "execution_count": null,
      "outputs": [
        {
          "output_type": "stream",
          "name": "stdout",
          "text": [
            "4 is less than 10\n"
          ]
        }
      ]
    },
    {
      "cell_type": "code",
      "source": [
        "x = 'Hershey'\n",
        "y = -88.88\n",
        "\n",
        "print(x)\n",
        "print(y)"
      ],
      "metadata": {
        "colab": {
          "base_uri": "https://localhost:8080/"
        },
        "id": "Mp7raAmz6Cur",
        "outputId": "fdb8442b-a289-4db1-cf90-a01019fa34df"
      },
      "execution_count": null,
      "outputs": [
        {
          "output_type": "stream",
          "name": "stdout",
          "text": [
            "Hershey\n",
            "-88.88\n"
          ]
        }
      ]
    },
    {
      "cell_type": "code",
      "source": [
        "print(type(x))\n",
        "print(type(y))"
      ],
      "metadata": {
        "colab": {
          "base_uri": "https://localhost:8080/"
        },
        "id": "evuocpg56E4K",
        "outputId": "2f57742a-0085-4c6c-ae3e-276512d51275"
      },
      "execution_count": null,
      "outputs": [
        {
          "output_type": "stream",
          "name": "stdout",
          "text": [
            "<class 'str'>\n",
            "<class 'float'>\n"
          ]
        }
      ]
    }
  ]
}